{
 "cells": [
  {
   "cell_type": "markdown",
   "metadata": {},
   "source": [
    "# Exemple d'utilisation de SageMath"
   ]
  },
  {
   "cell_type": "markdown",
   "metadata": {},
   "source": [
    "## Sage\n",
    "Sage (aussi connu comme SageMath) est un logiciel du domaine libre dédié aux mathématiques. Il s'agit plus précisément d'un outil de calcul symbolique similaire à Mathematica, Maxima et Maple. Par contre, au contraire de ces derniers qui ont leur propre langage, Sage est construit sur le langage de programmation Python.\n",
    "\n",
    "Un bagage en Python n'est pas nécessaire pour utiliser Sage, mais les deux peuvent se complémenter. "
   ]
  },
  {
   "cell_type": "markdown",
   "metadata": {},
   "source": [
    "## Exemple éclair\n",
    "\n",
    "Quelques exemples d'utilisation de Sage."
   ]
  },
  {
   "cell_type": "code",
   "execution_count": 38,
   "metadata": {
    "scrolled": true
   },
   "outputs": [
    {
     "data": {
      "text/plain": [
       "5"
      ]
     },
     "execution_count": 38,
     "metadata": {},
     "output_type": "execute_result"
    }
   ],
   "source": [
    "# Ceci est un commentaire : quelques opérations de bases\n",
    "\n",
    "2+3"
   ]
  },
  {
   "cell_type": "code",
   "execution_count": 39,
   "metadata": {},
   "outputs": [
    {
     "data": {
      "text/plain": [
       "121/63"
      ]
     },
     "execution_count": 39,
     "metadata": {},
     "output_type": "execute_result"
    }
   ],
   "source": [
    "3*5/(3+4)-2/3^2 #la priorité des opérations est respectées"
   ]
  },
  {
   "cell_type": "markdown",
   "metadata": {},
   "source": [
    "Sage inclut plusieurs fonctionnalités, par exemple"
   ]
  },
  {
   "cell_type": "code",
   "execution_count": 40,
   "metadata": {},
   "outputs": [
    {
     "data": {
      "text/plain": [
       "-1 * 2^4 * 3^2 * 7"
      ]
     },
     "execution_count": 40,
     "metadata": {},
     "output_type": "execute_result"
    }
   ],
   "source": [
    "factor(-1008) #Factorisation"
   ]
  },
  {
   "cell_type": "code",
   "execution_count": 41,
   "metadata": {},
   "outputs": [
    {
     "data": {
      "text/plain": [
       "[(2, 4), (3, 2), (7, 1)]"
      ]
     },
     "execution_count": 41,
     "metadata": {},
     "output_type": "execute_result"
    }
   ],
   "source": [
    "list(factor(1008))"
   ]
  },
  {
   "cell_type": "markdown",
   "metadata": {},
   "source": [
    "Sage connaît plusieurs fonctions et constantes :"
   ]
  },
  {
   "cell_type": "code",
   "execution_count": 42,
   "metadata": {},
   "outputs": [
    {
     "data": {
      "text/plain": [
       "0"
      ]
     },
     "execution_count": 42,
     "metadata": {},
     "output_type": "execute_result"
    }
   ],
   "source": [
    "sin(pi)"
   ]
  },
  {
   "cell_type": "code",
   "execution_count": 43,
   "metadata": {},
   "outputs": [
    {
     "data": {
      "text/plain": [
       "e^2"
      ]
     },
     "execution_count": 43,
     "metadata": {},
     "output_type": "execute_result"
    }
   ],
   "source": [
    "exp(2)"
   ]
  },
  {
   "cell_type": "markdown",
   "metadata": {},
   "source": [
    "Sage essaie toujours de garder les expressions sous formes exactes. Pour obtenir des approximations numériques, on peut utiliser la commande `N()`."
   ]
  },
  {
   "cell_type": "code",
   "execution_count": 44,
   "metadata": {},
   "outputs": [
    {
     "data": {
      "text/plain": [
       "7.38905609893065"
      ]
     },
     "execution_count": 44,
     "metadata": {},
     "output_type": "execute_result"
    }
   ],
   "source": [
    "N(exp(2))"
   ]
  },
  {
   "cell_type": "markdown",
   "metadata": {},
   "source": [
    "On peut obtenir la précision que l'on veut en utilisant l'option `digits` de la fonction `N()`."
   ]
  },
  {
   "cell_type": "code",
   "execution_count": 45,
   "metadata": {},
   "outputs": [
    {
     "data": {
      "text/plain": [
       "3.1415926535897932384626433832795028841971693993751058209749445923078164062862089986280348253421170679821480865132823066470938446095505822317253594081284811174502841027019385211055596446229489549303820"
      ]
     },
     "execution_count": 45,
     "metadata": {},
     "output_type": "execute_result"
    }
   ],
   "source": [
    "N(pi, digits=200)"
   ]
  },
  {
   "cell_type": "markdown",
   "metadata": {},
   "source": [
    "## Un peu de calcul et de manipulation symbolique"
   ]
  },
  {
   "cell_type": "code",
   "execution_count": 46,
   "metadata": {},
   "outputs": [
    {
     "name": "stdout",
     "output_type": "stream",
     "text": [
      "3\n",
      "x + y\n"
     ]
    }
   ],
   "source": [
    "# On déclare x et y comme variable symbolique\n",
    "x = 1\n",
    "y = 2\n",
    "print(x+y)\n",
    "\n",
    "reset('x')\n",
    "reset('y')\n",
    "var('x')\n",
    "var('y')\n",
    "\n",
    "print(x+y)"
   ]
  },
  {
   "cell_type": "code",
   "execution_count": 47,
   "metadata": {},
   "outputs": [
    {
     "data": {
      "text/plain": [
       "[x == -2, x == -1]"
      ]
     },
     "execution_count": 47,
     "metadata": {},
     "output_type": "execute_result"
    }
   ],
   "source": [
    "solve(x^2 + 3*x + 2, x)"
   ]
  },
  {
   "cell_type": "code",
   "execution_count": 48,
   "metadata": {
    "scrolled": true
   },
   "outputs": [
    {
     "data": {
      "text/plain": [
       "[x == -1/2*y - 1/2*sqrt(y^2 - 8), x == -1/2*y + 1/2*sqrt(y^2 - 8)]"
      ]
     },
     "execution_count": 48,
     "metadata": {},
     "output_type": "execute_result"
    }
   ],
   "source": [
    "solve(x^2 + y*x + 2 == 0, x)"
   ]
  },
  {
   "cell_type": "code",
   "execution_count": 49,
   "metadata": {
    "scrolled": true
   },
   "outputs": [
    {
     "data": {
      "text/html": [
       "<html><script type=\"math/tex; mode=display\">\\newcommand{\\Bold}[1]{\\mathbf{#1}}\\left[x = -\\frac{1}{2} \\, y - \\frac{1}{2} \\, \\sqrt{y^{2} - 8}, x = -\\frac{1}{2} \\, y + \\frac{1}{2} \\, \\sqrt{y^{2} - 8}\\right]</script></html>"
      ],
      "text/latex": [
       "$$\\newcommand{\\Bold}[1]{\\mathbf{#1}}\\left[x = -\\frac{1}{2} \\, y - \\frac{1}{2} \\, \\sqrt{y^{2} - 8}, x = -\\frac{1}{2} \\, y + \\frac{1}{2} \\, \\sqrt{y^{2} - 8}\\right]$$"
      ],
      "text/plain": [
       "[x == -1/2*y - 1/2*sqrt(y^2 - 8), x == -1/2*y + 1/2*sqrt(y^2 - 8)]"
      ]
     },
     "metadata": {},
     "output_type": "display_data"
    }
   ],
   "source": [
    "pretty_print(solve(x^2 + y*x + 2 == 0, x)) #Sage peut aussi imprimer les résultats sous un format plus lisible"
   ]
  },
  {
   "cell_type": "code",
   "execution_count": 50,
   "metadata": {},
   "outputs": [
    {
     "data": {
      "text/html": [
       "<html><script type=\"math/tex; mode=display\">\\newcommand{\\Bold}[1]{\\mathbf{#1}}\\left[\\left[p = 8, q = \\left(-26\\right), x = \\left(\\frac{5}{2}\\right), y = 1\\right], \\left[p = 8, q = 6, x = \\left(-\\frac{3}{2}\\right), y = 1\\right]\\right]</script></html>"
      ],
      "text/latex": [
       "$$\\newcommand{\\Bold}[1]{\\mathbf{#1}}\\left[\\left[p = 8, q = \\left(-26\\right), x = \\left(\\frac{5}{2}\\right), y = 1\\right], \\left[p = 8, q = 6, x = \\left(-\\frac{3}{2}\\right), y = 1\\right]\\right]$$"
      ],
      "text/plain": [
       "[[p == 8, q == -26, x == (5/2), y == 1], [p == 8, q == 6, x == (-3/2), y == 1]]"
      ]
     },
     "metadata": {},
     "output_type": "display_data"
    }
   ],
   "source": [
    "# Des équations non linéaires plus complexes peuvent également être résolu\n",
    "var('p,q')\n",
    "eq1 = p+1==9\n",
    "eq2 = q*y+p*x==-6\n",
    "eq3 = q*y**2+p*x**2==24\n",
    "s = solve([eq1, eq2, eq3, y==1], p,q,x,y)\n",
    "pretty_print(s)"
   ]
  },
  {
   "cell_type": "code",
   "execution_count": 51,
   "metadata": {},
   "outputs": [
    {
     "data": {
      "text/plain": [
       "x^2 + 2*x + 1"
      ]
     },
     "execution_count": 51,
     "metadata": {},
     "output_type": "execute_result"
    }
   ],
   "source": [
    "# On peut aussi faire du calcul symbolique\n",
    "f = x**2 + 2*x + 1\n",
    "f"
   ]
  },
  {
   "cell_type": "code",
   "execution_count": 52,
   "metadata": {
    "scrolled": true
   },
   "outputs": [
    {
     "data": {
      "text/plain": [
       "2*x + 2"
      ]
     },
     "execution_count": 52,
     "metadata": {},
     "output_type": "execute_result"
    }
   ],
   "source": [
    "diff(f, x)"
   ]
  },
  {
   "cell_type": "code",
   "execution_count": 53,
   "metadata": {
    "scrolled": true
   },
   "outputs": [
    {
     "data": {
      "text/plain": [
       "1/3*x^3 + x^2 + x"
      ]
     },
     "execution_count": 53,
     "metadata": {},
     "output_type": "execute_result"
    }
   ],
   "source": [
    "integral(f, x)"
   ]
  },
  {
   "cell_type": "code",
   "execution_count": 54,
   "metadata": {},
   "outputs": [
    {
     "data": {
      "text/plain": [
       "7/3"
      ]
     },
     "execution_count": 54,
     "metadata": {},
     "output_type": "execute_result"
    }
   ],
   "source": [
    "F = integral(f, x)\n",
    "F(x=1)"
   ]
  },
  {
   "cell_type": "code",
   "execution_count": 55,
   "metadata": {},
   "outputs": [
    {
     "data": {
      "text/plain": [
       "81*x^8*sin(x^3) - 324*x^5*cos(x^3) - 180*x^2*sin(x^3)"
      ]
     },
     "execution_count": 55,
     "metadata": {},
     "output_type": "execute_result"
    }
   ],
   "source": [
    "diff(sin(x**3), x, 4) #Fait la 4e dérivée"
   ]
  },
  {
   "cell_type": "code",
   "execution_count": 56,
   "metadata": {},
   "outputs": [
    {
     "data": {
      "text/plain": [
       "sin(x^2)"
      ]
     },
     "execution_count": 56,
     "metadata": {},
     "output_type": "execute_result"
    }
   ],
   "source": [
    "f = sin(x**2)\n",
    "f"
   ]
  },
  {
   "cell_type": "code",
   "execution_count": 57,
   "metadata": {},
   "outputs": [
    {
     "data": {
      "text/plain": [
       "1/362880*x^18 - 1/5040*x^14 + 1/120*x^10 - 1/6*x^6 + x^2"
      ]
     },
     "execution_count": 57,
     "metadata": {},
     "output_type": "execute_result"
    }
   ],
   "source": [
    "# Expansions en série de Taylor\n",
    "f.taylor(x, 0, 20)"
   ]
  },
  {
   "cell_type": "markdown",
   "metadata": {},
   "source": [
    "## Sage et Python \n",
    "Sage est écrit en Python. On peut donc utiliser des fonctions de Python directement dans Sage. On peut aussi importer des librairies de Python dans Sage ce qui décuples les fonctionnalités. `range` est une fonction de Python qui crée une liste de la longueur du nombre donné en commençant à 0."
   ]
  },
  {
   "cell_type": "code",
   "execution_count": 58,
   "metadata": {},
   "outputs": [
    {
     "data": {
      "text/plain": [
       "range(0, 16)"
      ]
     },
     "execution_count": 58,
     "metadata": {},
     "output_type": "execute_result"
    }
   ],
   "source": [
    "range(16)"
   ]
  },
  {
   "cell_type": "code",
   "execution_count": 59,
   "metadata": {},
   "outputs": [
    {
     "data": {
      "text/plain": [
       "[ 0  1  2  3]\n",
       "[ 4  5  6  7]\n",
       "[ 8  9 10 11]\n",
       "[12 13 14 15]"
      ]
     },
     "execution_count": 59,
     "metadata": {},
     "output_type": "execute_result"
    }
   ],
   "source": [
    "A = matrix(4,4, range(16)) #Création d'une matrice\n",
    "A"
   ]
  },
  {
   "cell_type": "code",
   "execution_count": 60,
   "metadata": {},
   "outputs": [
    {
     "data": {
      "text/plain": [
       "[-5 -4 -3 -2]\n",
       "[-1  0  1  2]\n",
       "[ 3  4  5  6]\n",
       "[ 7  8  9 10]"
      ]
     },
     "execution_count": 60,
     "metadata": {},
     "output_type": "execute_result"
    }
   ],
   "source": [
    "B = matrix(4,4, range(-5, 11))\n",
    "B"
   ]
  },
  {
   "cell_type": "markdown",
   "metadata": {},
   "source": [
    "Sage comprend le contexte dans lequel un opérateur est utilisé. Multiplié, additionné ou soustraire des matrices fonctionne comme prévu."
   ]
  },
  {
   "cell_type": "code",
   "execution_count": 61,
   "metadata": {},
   "outputs": [
    {
     "data": {
      "text/plain": [
       "[ 26  32  38  44]\n",
       "[ 42  64  86 108]\n",
       "[ 58  96 134 172]\n",
       "[ 74 128 182 236]"
      ]
     },
     "execution_count": 61,
     "metadata": {},
     "output_type": "execute_result"
    }
   ],
   "source": [
    "A*B"
   ]
  },
  {
   "cell_type": "markdown",
   "metadata": {},
   "source": [
    "On a vu une première façon d'utiliser une fonction dans Sage : `fonction(option1, option2,...)`. Une autre façon d'utiliser une fonction est de créé un objet (par exemple une matrice), et d'utiliser `Objet.fonction()`, où `Objet` est le nom de notre objet et `fonction` est la fonction qu'on veut utiliser."
   ]
  },
  {
   "cell_type": "markdown",
   "metadata": {},
   "source": [
    "Une façon pratique d'avoir accès aux différentes fonctions applicables sur un objet est d'utiliser l'auto-complétion accessible avec la touche `<Tab>`.\n",
    "\n",
    "Essayez de taper \n",
    "\n",
    "    A.\n",
    "    \n",
    "et appuyer sur `<Tab>`. Sage va faire apparaître une liste de fonction applicable sur la matrice A."
   ]
  },
  {
   "cell_type": "code",
   "execution_count": 62,
   "metadata": {
    "scrolled": false
   },
   "outputs": [
    {
     "ename": "SyntaxError",
     "evalue": "invalid syntax (<ipython-input-62-d3a0e2eea399>, line 1)",
     "output_type": "error",
     "traceback": [
      "\u001b[0;36m  File \u001b[0;32m\"<ipython-input-62-d3a0e2eea399>\"\u001b[0;36m, line \u001b[0;32m1\u001b[0m\n\u001b[0;31m    A.\u001b[0m\n\u001b[0m      ^\u001b[0m\n\u001b[0;31mSyntaxError\u001b[0m\u001b[0;31m:\u001b[0m invalid syntax\n"
     ]
    }
   ],
   "source": [
    "A."
   ]
  },
  {
   "cell_type": "markdown",
   "metadata": {},
   "source": [
    "Certaines fonctions sont plus utiles que d'autres. Pour savoir ce que fait chaque fonction, comme `A.eigenvalues()`, il faut tapper \n",
    "\n",
    "    A.eigenvalues?\n",
    "    \n",
    "et appuyer sur Shift+Entrée."
   ]
  },
  {
   "cell_type": "code",
   "execution_count": null,
   "metadata": {},
   "outputs": [],
   "source": [
    "A.eigenvalues?"
   ]
  },
  {
   "cell_type": "code",
   "execution_count": null,
   "metadata": {},
   "outputs": [],
   "source": [
    "A.eigenvalues()"
   ]
  },
  {
   "cell_type": "markdown",
   "metadata": {},
   "source": [
    "## Graphiques de fonctions"
   ]
  },
  {
   "cell_type": "code",
   "execution_count": null,
   "metadata": {},
   "outputs": [],
   "source": [
    "var('x,y')\n",
    "f(x,y)=y^2+1-x^3-x\n",
    "contour_plot(f, (x,-pi,pi), (y,-pi,pi), colorbar=True, labels=True)"
   ]
  },
  {
   "cell_type": "code",
   "execution_count": null,
   "metadata": {},
   "outputs": [],
   "source": [
    "# Courbe implicite\n",
    "f(x,y) = -x**3 + y**2 - y + x + 1\n",
    "implicit_plot(f(x,y)==0,(x,0,2*pi),(y,-pi,pi))"
   ]
  },
  {
   "cell_type": "code",
   "execution_count": null,
   "metadata": {},
   "outputs": [],
   "source": [
    "#Graphique 3D\n",
    "var('x,y')\n",
    "plot3d(x^2 + y^2, (x,-2,2), (y,-2,2))"
   ]
  },
  {
   "cell_type": "markdown",
   "metadata": {},
   "source": [
    "Voici un exemple plus complexe de graphique interactif."
   ]
  },
  {
   "cell_type": "code",
   "execution_count": null,
   "metadata": {},
   "outputs": [],
   "source": [
    "@interact\n",
    "def g(f=sin(x), c=0, n=(1..30),\n",
    "      xinterval=range_slider(-10, 10, 1, default=(-8,8), label=\"x-interval\"),\n",
    "      yinterval=range_slider(-50, 50, 1, default=(-3,3), label=\"y-interval\")):\n",
    "    x0 = c\n",
    "    degree = n\n",
    "    xmin,xmax = xinterval\n",
    "    ymin,ymax = yinterval\n",
    "    p   = plot(f, xmin, xmax, thickness=4)\n",
    "    dot = point((x0,f(x=x0)),pointsize=80,rgbcolor=(1,0,0))\n",
    "    ft = f.taylor(x,x0,degree)\n",
    "    pt = plot(ft, xmin, xmax, color='red', thickness=2, fill=f)\n",
    "    show(dot + p + pt, ymin=ymin, ymax=ymax, xmin=xmin, xmax=xmax)\n",
    "    html('$f(x)\\;=\\;%s$'%latex(f))\n",
    "    html('$P_{%s}(x)\\;=\\;%s+R_{%s}(x)$'%(degree,latex(ft),degree))"
   ]
  },
  {
   "cell_type": "code",
   "execution_count": null,
   "metadata": {},
   "outputs": [],
   "source": [
    "pretty_print(html('<h2>Tangente à une courbe</h2>'))\n",
    "@interact\n",
    "def tangent_line(f = input_box(default=sin(x)), x0 = slider(0, 10, 1/10, 2)):\n",
    "    xbegin = 0\n",
    "    xend = 10\n",
    "    prange = [xbegin, xend]\n",
    "    x0i = x0\n",
    "    var('x')\n",
    "    df = diff(f)\n",
    "    tanf = f(x=x0i) + df(x=x0i)*(x-x0i)\n",
    "    fplot = plot(f, prange[0], prange[1])\n",
    "    print(\"L'équation de la tangente est y = \" + tanf._repr_())\n",
    "    tanplot = plot(tanf, prange[0], prange[1], rgbcolor = (1,0,0))\n",
    "    fmax = f.find_local_maximum(prange[0], prange[1])[0]\n",
    "    fmin = f.find_local_minimum(prange[0], prange[1])[0]\n",
    "    show(fplot + tanplot, xmin = prange[0], xmax = prange[1], ymax = fmax, ymin = fmin)"
   ]
  },
  {
   "cell_type": "markdown",
   "metadata": {},
   "source": [
    "### Ressources additionnelles\n",
    "\n",
    "\n",
    "Le présent fichier est très fortement inspiré du document suivant https://github.com/davidlowryduda/notebooks/blob/master/sage_tutorial.ipynb.\n",
    "\n",
    "Voici quelques autres ressources :\n",
    "\n",
    "1. Sage fournit des tutoriels : [Tour guidé](https://doc.sagemath.org/html/en/tutorial/tour.html) [Tutoriel Standard de Sage](https://doc.sagemath.org/html/en/tutorial/index.html). \n",
    "2. [PREP Tutorials](http://doc.sagemath.org/html/en/prep/index.html) des tutoriels créé en partenariat avec la Mathematics Association of America ayant pour but d'aider des étudiant.es de niveau collégial/universitaire sans bagage préalable de programmation.\n",
    "3. La site principale de Sage (http://www.sagemath.org/).\n",
    "\n"
   ]
  },
  {
   "cell_type": "code",
   "execution_count": null,
   "metadata": {},
   "outputs": [],
   "source": []
  }
 ],
 "metadata": {
  "kernelspec": {
   "display_name": "SageMath 9.3",
   "language": "sage",
   "name": "sagemath"
  },
  "language_info": {
   "codemirror_mode": {
    "name": "ipython",
    "version": 3
   },
   "file_extension": ".py",
   "mimetype": "text/x-python",
   "name": "python",
   "nbconvert_exporter": "python",
   "pygments_lexer": "ipython3",
   "version": "3.7.10"
  }
 },
 "nbformat": 4,
 "nbformat_minor": 4
}
